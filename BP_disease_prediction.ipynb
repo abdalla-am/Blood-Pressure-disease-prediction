{
 "cells": [
  {
   "attachments": {},
   "cell_type": "markdown",
   "metadata": {},
   "source": [
    "\n",
    "Import the dependencies\n"
   ]
  },
  {
   "cell_type": "code",
   "execution_count": 597,
   "metadata": {
    "tags": []
   },
   "outputs": [],
   "source": [
    "#libraries\n",
    "import numpy as np\n",
    "import pandas as pd\n",
    "from sklearn.model_selection import train_test_split\n",
    "from sklearn.preprocessing import  StandardScaler\n"
   ]
  },
  {
   "cell_type": "code",
   "execution_count": 598,
   "metadata": {},
   "outputs": [],
   "source": [
    "#load the used dataset\n",
    "data_frame = pd.read_csv('data_set.csv')"
   ]
  },
  {
   "cell_type": "code",
   "execution_count": 599,
   "metadata": {},
   "outputs": [
    {
     "data": {
      "text/plain": [
       "(2000, 15)"
      ]
     },
     "execution_count": 599,
     "metadata": {},
     "output_type": "execute_result"
    }
   ],
   "source": [
    "# display (rows,columns)\n",
    "data_frame.shape"
   ]
  },
  {
   "cell_type": "code",
   "execution_count": 600,
   "metadata": {},
   "outputs": [
    {
     "name": "stdout",
     "output_type": "stream",
     "text": [
      "<class 'pandas.core.frame.DataFrame'>\n",
      "RangeIndex: 2000 entries, 0 to 1999\n",
      "Data columns (total 15 columns):\n",
      " #   Column                         Non-Null Count  Dtype  \n",
      "---  ------                         --------------  -----  \n",
      " 0   Patient_Number                 2000 non-null   int64  \n",
      " 1   Blood_Pressure_Abnormality     2000 non-null   int64  \n",
      " 2   Level_of_Hemoglobin            2000 non-null   float64\n",
      " 3   Genetic_Pedigree_Coefficient   1908 non-null   float64\n",
      " 4   Age                            2000 non-null   int64  \n",
      " 5   BMI                            2000 non-null   int64  \n",
      " 6   Sex                            2000 non-null   int64  \n",
      " 7   Pregnancy                      442 non-null    float64\n",
      " 8   Smoking                        2000 non-null   int64  \n",
      " 9   Physical_activity              2000 non-null   int64  \n",
      " 10  salt_content_in_the_diet       2000 non-null   int64  \n",
      " 11  alcohol_consumption_per_day    1758 non-null   float64\n",
      " 12  Level_of_Stress                2000 non-null   int64  \n",
      " 13  Chronic_kidney_disease         2000 non-null   int64  \n",
      " 14  Adrenal_and_thyroid_disorders  2000 non-null   int64  \n",
      "dtypes: float64(4), int64(11)\n",
      "memory usage: 234.5 KB\n"
     ]
    }
   ],
   "source": [
    "# show dataset info\n",
    "data_frame.info()\n"
   ]
  },
  {
   "attachments": {},
   "cell_type": "markdown",
   "metadata": {},
   "source": [
    "Drop the unnecessary columns and rows"
   ]
  },
  {
   "cell_type": "code",
   "execution_count": 601,
   "metadata": {},
   "outputs": [
    {
     "data": {
      "text/plain": [
       "(2000, 13)"
      ]
     },
     "execution_count": 601,
     "metadata": {},
     "output_type": "execute_result"
    }
   ],
   "source": [
    "#drop the unneeded columns\n",
    "#we will remove the 'Patient_Number' column \n",
    "#we will remove the 'pregnancy' column bec. it consist of 1558 nulls and its not that important\n",
    "#but we wont remove 'Genetic_Pedigree_Coefficient' and 'alcohol_consumption_per_day' columns bec. they are a main factor in the blood pressure disease\n",
    "data_frame = data_frame.drop(['Patient_Number', 'Pregnancy'], axis=1 )\n",
    "data_frame.shape"
   ]
  },
  {
   "cell_type": "code",
   "execution_count": 602,
   "metadata": {},
   "outputs": [
    {
     "data": {
      "text/plain": [
       "Blood_Pressure_Abnormality         0\n",
       "Level_of_Hemoglobin                0\n",
       "Genetic_Pedigree_Coefficient      92\n",
       "Age                                0\n",
       "BMI                                0\n",
       "Sex                                0\n",
       "Smoking                            0\n",
       "Physical_activity                  0\n",
       "salt_content_in_the_diet           0\n",
       "alcohol_consumption_per_day      242\n",
       "Level_of_Stress                    0\n",
       "Chronic_kidney_disease             0\n",
       "Adrenal_and_thyroid_disorders      0\n",
       "dtype: int64"
      ]
     },
     "execution_count": 602,
     "metadata": {},
     "output_type": "execute_result"
    }
   ],
   "source": [
    "data_frame.isna().sum()"
   ]
  },
  {
   "cell_type": "code",
   "execution_count": 603,
   "metadata": {},
   "outputs": [
    {
     "data": {
      "text/plain": [
       "(1677, 13)"
      ]
     },
     "execution_count": 603,
     "metadata": {},
     "output_type": "execute_result"
    }
   ],
   "source": [
    "#Drop the rows that contain null values\n",
    "data_frame = data_frame.dropna()\n",
    "data_frame.shape"
   ]
  },
  {
   "cell_type": "code",
   "execution_count": 604,
   "metadata": {},
   "outputs": [
    {
     "data": {
      "text/plain": [
       "Blood_Pressure_Abnormality       0\n",
       "Level_of_Hemoglobin              0\n",
       "Genetic_Pedigree_Coefficient     0\n",
       "Age                              0\n",
       "BMI                              0\n",
       "Sex                              0\n",
       "Smoking                          0\n",
       "Physical_activity                0\n",
       "salt_content_in_the_diet         0\n",
       "alcohol_consumption_per_day      0\n",
       "Level_of_Stress                  0\n",
       "Chronic_kidney_disease           0\n",
       "Adrenal_and_thyroid_disorders    0\n",
       "dtype: int64"
      ]
     },
     "execution_count": 604,
     "metadata": {},
     "output_type": "execute_result"
    }
   ],
   "source": [
    "data_frame.isnull().sum()"
   ]
  },
  {
   "attachments": {},
   "cell_type": "markdown",
   "metadata": {},
   "source": [
    "outliers detection"
   ]
  },
  {
   "cell_type": "code",
   "execution_count": 605,
   "metadata": {},
   "outputs": [
    {
     "data": {
      "text/plain": [
       "Blood_Pressure_Abnormality         int64\n",
       "Level_of_Hemoglobin              float64\n",
       "Genetic_Pedigree_Coefficient     float64\n",
       "Age                                int64\n",
       "BMI                                int64\n",
       "Sex                                int64\n",
       "Smoking                            int64\n",
       "Physical_activity                  int64\n",
       "salt_content_in_the_diet           int64\n",
       "alcohol_consumption_per_day      float64\n",
       "Level_of_Stress                    int64\n",
       "Chronic_kidney_disease             int64\n",
       "Adrenal_and_thyroid_disorders      int64\n",
       "dtype: object"
      ]
     },
     "execution_count": 605,
     "metadata": {},
     "output_type": "execute_result"
    }
   ],
   "source": [
    "#investigating the datatypes of the columns content \n",
    "data_frame.dtypes\n"
   ]
  },
  {
   "cell_type": "code",
   "execution_count": 606,
   "metadata": {},
   "outputs": [
    {
     "data": {
      "text/html": [
       "<div>\n",
       "<style scoped>\n",
       "    .dataframe tbody tr th:only-of-type {\n",
       "        vertical-align: middle;\n",
       "    }\n",
       "\n",
       "    .dataframe tbody tr th {\n",
       "        vertical-align: top;\n",
       "    }\n",
       "\n",
       "    .dataframe thead th {\n",
       "        text-align: right;\n",
       "    }\n",
       "</style>\n",
       "<table border=\"1\" class=\"dataframe\">\n",
       "  <thead>\n",
       "    <tr style=\"text-align: right;\">\n",
       "      <th></th>\n",
       "      <th>Blood_Pressure_Abnormality</th>\n",
       "      <th>Level_of_Hemoglobin</th>\n",
       "      <th>Genetic_Pedigree_Coefficient</th>\n",
       "      <th>Age</th>\n",
       "      <th>BMI</th>\n",
       "      <th>Sex</th>\n",
       "      <th>Smoking</th>\n",
       "      <th>Physical_activity</th>\n",
       "      <th>salt_content_in_the_diet</th>\n",
       "      <th>alcohol_consumption_per_day</th>\n",
       "      <th>Level_of_Stress</th>\n",
       "      <th>Chronic_kidney_disease</th>\n",
       "      <th>Adrenal_and_thyroid_disorders</th>\n",
       "    </tr>\n",
       "  </thead>\n",
       "  <tbody>\n",
       "    <tr>\n",
       "      <th>count</th>\n",
       "      <td>1677.000000</td>\n",
       "      <td>1677.000000</td>\n",
       "      <td>1677.000000</td>\n",
       "      <td>1677.000000</td>\n",
       "      <td>1677.000000</td>\n",
       "      <td>1677.000000</td>\n",
       "      <td>1677.000000</td>\n",
       "      <td>1677.000000</td>\n",
       "      <td>1677.000000</td>\n",
       "      <td>1677.000000</td>\n",
       "      <td>1677.000000</td>\n",
       "      <td>1677.000000</td>\n",
       "      <td>1677.000000</td>\n",
       "    </tr>\n",
       "    <tr>\n",
       "      <th>mean</th>\n",
       "      <td>0.485987</td>\n",
       "      <td>11.622779</td>\n",
       "      <td>0.492940</td>\n",
       "      <td>50.040549</td>\n",
       "      <td>30.102564</td>\n",
       "      <td>0.502087</td>\n",
       "      <td>0.511628</td>\n",
       "      <td>25211.419201</td>\n",
       "      <td>24620.016696</td>\n",
       "      <td>249.852713</td>\n",
       "      <td>2.018485</td>\n",
       "      <td>0.496720</td>\n",
       "      <td>0.438879</td>\n",
       "    </tr>\n",
       "    <tr>\n",
       "      <th>std</th>\n",
       "      <td>0.499953</td>\n",
       "      <td>2.132422</td>\n",
       "      <td>0.290538</td>\n",
       "      <td>15.102696</td>\n",
       "      <td>11.837613</td>\n",
       "      <td>0.500145</td>\n",
       "      <td>0.500014</td>\n",
       "      <td>14002.954764</td>\n",
       "      <td>14240.819212</td>\n",
       "      <td>143.140643</td>\n",
       "      <td>0.825614</td>\n",
       "      <td>0.500138</td>\n",
       "      <td>0.496398</td>\n",
       "    </tr>\n",
       "    <tr>\n",
       "      <th>min</th>\n",
       "      <td>0.000000</td>\n",
       "      <td>8.100000</td>\n",
       "      <td>0.000000</td>\n",
       "      <td>25.000000</td>\n",
       "      <td>10.000000</td>\n",
       "      <td>0.000000</td>\n",
       "      <td>0.000000</td>\n",
       "      <td>628.000000</td>\n",
       "      <td>22.000000</td>\n",
       "      <td>0.000000</td>\n",
       "      <td>1.000000</td>\n",
       "      <td>0.000000</td>\n",
       "      <td>0.000000</td>\n",
       "    </tr>\n",
       "    <tr>\n",
       "      <th>25%</th>\n",
       "      <td>0.000000</td>\n",
       "      <td>10.110000</td>\n",
       "      <td>0.240000</td>\n",
       "      <td>37.000000</td>\n",
       "      <td>20.000000</td>\n",
       "      <td>0.000000</td>\n",
       "      <td>0.000000</td>\n",
       "      <td>13644.000000</td>\n",
       "      <td>12228.000000</td>\n",
       "      <td>126.000000</td>\n",
       "      <td>1.000000</td>\n",
       "      <td>0.000000</td>\n",
       "      <td>0.000000</td>\n",
       "    </tr>\n",
       "    <tr>\n",
       "      <th>50%</th>\n",
       "      <td>0.000000</td>\n",
       "      <td>11.270000</td>\n",
       "      <td>0.490000</td>\n",
       "      <td>50.000000</td>\n",
       "      <td>30.000000</td>\n",
       "      <td>1.000000</td>\n",
       "      <td>1.000000</td>\n",
       "      <td>25119.000000</td>\n",
       "      <td>24816.000000</td>\n",
       "      <td>250.000000</td>\n",
       "      <td>2.000000</td>\n",
       "      <td>0.000000</td>\n",
       "      <td>0.000000</td>\n",
       "    </tr>\n",
       "    <tr>\n",
       "      <th>75%</th>\n",
       "      <td>1.000000</td>\n",
       "      <td>12.780000</td>\n",
       "      <td>0.740000</td>\n",
       "      <td>64.000000</td>\n",
       "      <td>40.000000</td>\n",
       "      <td>1.000000</td>\n",
       "      <td>1.000000</td>\n",
       "      <td>37448.000000</td>\n",
       "      <td>36707.000000</td>\n",
       "      <td>375.000000</td>\n",
       "      <td>3.000000</td>\n",
       "      <td>1.000000</td>\n",
       "      <td>1.000000</td>\n",
       "    </tr>\n",
       "    <tr>\n",
       "      <th>max</th>\n",
       "      <td>1.000000</td>\n",
       "      <td>17.560000</td>\n",
       "      <td>1.000000</td>\n",
       "      <td>75.000000</td>\n",
       "      <td>50.000000</td>\n",
       "      <td>1.000000</td>\n",
       "      <td>1.000000</td>\n",
       "      <td>49940.000000</td>\n",
       "      <td>49976.000000</td>\n",
       "      <td>499.000000</td>\n",
       "      <td>3.000000</td>\n",
       "      <td>1.000000</td>\n",
       "      <td>1.000000</td>\n",
       "    </tr>\n",
       "  </tbody>\n",
       "</table>\n",
       "</div>"
      ],
      "text/plain": [
       "       Blood_Pressure_Abnormality  Level_of_Hemoglobin  \\\n",
       "count                 1677.000000          1677.000000   \n",
       "mean                     0.485987            11.622779   \n",
       "std                      0.499953             2.132422   \n",
       "min                      0.000000             8.100000   \n",
       "25%                      0.000000            10.110000   \n",
       "50%                      0.000000            11.270000   \n",
       "75%                      1.000000            12.780000   \n",
       "max                      1.000000            17.560000   \n",
       "\n",
       "       Genetic_Pedigree_Coefficient          Age          BMI          Sex  \\\n",
       "count                   1677.000000  1677.000000  1677.000000  1677.000000   \n",
       "mean                       0.492940    50.040549    30.102564     0.502087   \n",
       "std                        0.290538    15.102696    11.837613     0.500145   \n",
       "min                        0.000000    25.000000    10.000000     0.000000   \n",
       "25%                        0.240000    37.000000    20.000000     0.000000   \n",
       "50%                        0.490000    50.000000    30.000000     1.000000   \n",
       "75%                        0.740000    64.000000    40.000000     1.000000   \n",
       "max                        1.000000    75.000000    50.000000     1.000000   \n",
       "\n",
       "           Smoking  Physical_activity  salt_content_in_the_diet  \\\n",
       "count  1677.000000        1677.000000               1677.000000   \n",
       "mean      0.511628       25211.419201              24620.016696   \n",
       "std       0.500014       14002.954764              14240.819212   \n",
       "min       0.000000         628.000000                 22.000000   \n",
       "25%       0.000000       13644.000000              12228.000000   \n",
       "50%       1.000000       25119.000000              24816.000000   \n",
       "75%       1.000000       37448.000000              36707.000000   \n",
       "max       1.000000       49940.000000              49976.000000   \n",
       "\n",
       "       alcohol_consumption_per_day  Level_of_Stress  Chronic_kidney_disease  \\\n",
       "count                  1677.000000      1677.000000             1677.000000   \n",
       "mean                    249.852713         2.018485                0.496720   \n",
       "std                     143.140643         0.825614                0.500138   \n",
       "min                       0.000000         1.000000                0.000000   \n",
       "25%                     126.000000         1.000000                0.000000   \n",
       "50%                     250.000000         2.000000                0.000000   \n",
       "75%                     375.000000         3.000000                1.000000   \n",
       "max                     499.000000         3.000000                1.000000   \n",
       "\n",
       "       Adrenal_and_thyroid_disorders  \n",
       "count                    1677.000000  \n",
       "mean                        0.438879  \n",
       "std                         0.496398  \n",
       "min                         0.000000  \n",
       "25%                         0.000000  \n",
       "50%                         0.000000  \n",
       "75%                         1.000000  \n",
       "max                         1.000000  "
      ]
     },
     "execution_count": 606,
     "metadata": {},
     "output_type": "execute_result"
    }
   ],
   "source": [
    "data_frame.describe()"
   ]
  },
  {
   "cell_type": "code",
   "execution_count": 607,
   "metadata": {},
   "outputs": [],
   "source": [
    "#The dataset contain no outliers as the mean is in between the min and max values of the columns \n",
    "## Remove outliers\n",
    "#df = df[(df['column1'] > 0) & (df['column1'] < 100)]"
   ]
  },
  {
   "attachments": {},
   "cell_type": "markdown",
   "metadata": {},
   "source": [
    "Feature(input) scaling\n",
    "Data normalization"
   ]
  },
  {
   "cell_type": "code",
   "execution_count": 608,
   "metadata": {},
   "outputs": [
    {
     "data": {
      "text/html": [
       "<div>\n",
       "<style scoped>\n",
       "    .dataframe tbody tr th:only-of-type {\n",
       "        vertical-align: middle;\n",
       "    }\n",
       "\n",
       "    .dataframe tbody tr th {\n",
       "        vertical-align: top;\n",
       "    }\n",
       "\n",
       "    .dataframe thead th {\n",
       "        text-align: right;\n",
       "    }\n",
       "</style>\n",
       "<table border=\"1\" class=\"dataframe\">\n",
       "  <thead>\n",
       "    <tr style=\"text-align: right;\">\n",
       "      <th></th>\n",
       "      <th>Blood_Pressure_Abnormality</th>\n",
       "      <th>Level_of_Hemoglobin</th>\n",
       "      <th>Genetic_Pedigree_Coefficient</th>\n",
       "      <th>Age</th>\n",
       "      <th>BMI</th>\n",
       "      <th>Sex</th>\n",
       "      <th>Smoking</th>\n",
       "      <th>Physical_activity</th>\n",
       "      <th>salt_content_in_the_diet</th>\n",
       "      <th>alcohol_consumption_per_day</th>\n",
       "      <th>Level_of_Stress</th>\n",
       "      <th>Chronic_kidney_disease</th>\n",
       "      <th>Adrenal_and_thyroid_disorders</th>\n",
       "    </tr>\n",
       "  </thead>\n",
       "  <tbody>\n",
       "    <tr>\n",
       "      <th>1</th>\n",
       "      <td>0</td>\n",
       "      <td>9.75</td>\n",
       "      <td>0.23</td>\n",
       "      <td>54</td>\n",
       "      <td>33</td>\n",
       "      <td>1</td>\n",
       "      <td>0</td>\n",
       "      <td>26106</td>\n",
       "      <td>25333</td>\n",
       "      <td>205.0</td>\n",
       "      <td>3</td>\n",
       "      <td>0</td>\n",
       "      <td>0</td>\n",
       "    </tr>\n",
       "    <tr>\n",
       "      <th>2</th>\n",
       "      <td>1</td>\n",
       "      <td>10.79</td>\n",
       "      <td>0.91</td>\n",
       "      <td>70</td>\n",
       "      <td>49</td>\n",
       "      <td>0</td>\n",
       "      <td>0</td>\n",
       "      <td>9995</td>\n",
       "      <td>29465</td>\n",
       "      <td>67.0</td>\n",
       "      <td>2</td>\n",
       "      <td>1</td>\n",
       "      <td>0</td>\n",
       "    </tr>\n",
       "    <tr>\n",
       "      <th>3</th>\n",
       "      <td>0</td>\n",
       "      <td>11.00</td>\n",
       "      <td>0.43</td>\n",
       "      <td>71</td>\n",
       "      <td>50</td>\n",
       "      <td>0</td>\n",
       "      <td>0</td>\n",
       "      <td>10635</td>\n",
       "      <td>7439</td>\n",
       "      <td>242.0</td>\n",
       "      <td>1</td>\n",
       "      <td>1</td>\n",
       "      <td>0</td>\n",
       "    </tr>\n",
       "    <tr>\n",
       "      <th>4</th>\n",
       "      <td>1</td>\n",
       "      <td>14.17</td>\n",
       "      <td>0.83</td>\n",
       "      <td>52</td>\n",
       "      <td>19</td>\n",
       "      <td>0</td>\n",
       "      <td>0</td>\n",
       "      <td>15619</td>\n",
       "      <td>49644</td>\n",
       "      <td>397.0</td>\n",
       "      <td>2</td>\n",
       "      <td>0</td>\n",
       "      <td>0</td>\n",
       "    </tr>\n",
       "    <tr>\n",
       "      <th>6</th>\n",
       "      <td>1</td>\n",
       "      <td>11.69</td>\n",
       "      <td>0.75</td>\n",
       "      <td>43</td>\n",
       "      <td>41</td>\n",
       "      <td>1</td>\n",
       "      <td>0</td>\n",
       "      <td>38369</td>\n",
       "      <td>32967</td>\n",
       "      <td>206.0</td>\n",
       "      <td>3</td>\n",
       "      <td>1</td>\n",
       "      <td>1</td>\n",
       "    </tr>\n",
       "  </tbody>\n",
       "</table>\n",
       "</div>"
      ],
      "text/plain": [
       "   Blood_Pressure_Abnormality  Level_of_Hemoglobin  \\\n",
       "1                           0                 9.75   \n",
       "2                           1                10.79   \n",
       "3                           0                11.00   \n",
       "4                           1                14.17   \n",
       "6                           1                11.69   \n",
       "\n",
       "   Genetic_Pedigree_Coefficient  Age  BMI  Sex  Smoking  Physical_activity  \\\n",
       "1                          0.23   54   33    1        0              26106   \n",
       "2                          0.91   70   49    0        0               9995   \n",
       "3                          0.43   71   50    0        0              10635   \n",
       "4                          0.83   52   19    0        0              15619   \n",
       "6                          0.75   43   41    1        0              38369   \n",
       "\n",
       "   salt_content_in_the_diet  alcohol_consumption_per_day  Level_of_Stress  \\\n",
       "1                     25333                        205.0                3   \n",
       "2                     29465                         67.0                2   \n",
       "3                      7439                        242.0                1   \n",
       "4                     49644                        397.0                2   \n",
       "6                     32967                        206.0                3   \n",
       "\n",
       "   Chronic_kidney_disease  Adrenal_and_thyroid_disorders  \n",
       "1                       0                              0  \n",
       "2                       1                              0  \n",
       "3                       1                              0  \n",
       "4                       0                              0  \n",
       "6                       1                              1  "
      ]
     },
     "execution_count": 608,
     "metadata": {},
     "output_type": "execute_result"
    }
   ],
   "source": [
    "# Since the range of values of raw data varies widely\n",
    "# Normalize the range of independent variables or features of data \n",
    "# feature scaling can be done by Standardization or normalization\n",
    "\n",
    "# dataset before feature scaling:\n",
    "data_frame.head()"
   ]
  },
  {
   "cell_type": "code",
   "execution_count": 609,
   "metadata": {},
   "outputs": [],
   "source": [
    "data_input = data_frame.drop(columns=['Blood_Pressure_Abnormality'])\n",
    "data_output = data_frame['Blood_Pressure_Abnormality']"
   ]
  },
  {
   "cell_type": "code",
   "execution_count": 610,
   "metadata": {},
   "outputs": [],
   "source": [
    "#from sklearn.model_selection import train_test_split\n",
    "\n",
    "X , X_test , y , y_test =train_test_split(\n",
    "    data_input , data_output , test_size=0.33 , random_state=0\n",
    ")\n",
    "\n",
    "X_train ,X_val ,y_train , y_val =train_test_split (\n",
    "    data_input ,data_output ,test_size=0.33 ,random_state=0 \n",
    ")"
   ]
  },
  {
   "cell_type": "code",
   "execution_count": 611,
   "metadata": {},
   "outputs": [
    {
     "name": "stdout",
     "output_type": "stream",
     "text": [
      "(1123, 12)\n",
      "(1123,)\n",
      "---------------\n",
      "(554, 12)\n",
      "(554,)\n",
      "---------------\n",
      "(554, 12)\n",
      "(554,)\n",
      "---------------\n"
     ]
    }
   ],
   "source": [
    "print(X_train.shape)\n",
    "print(y_train.shape)\n",
    "print('---------------')\n",
    "print(X_val.shape)\n",
    "print(y_val.shape)\n",
    "print('---------------')\n",
    "print(X_test.shape)\n",
    "print(y_test.shape)\n",
    "print('---------------')\n",
    "\n",
    "#(no. of samples , no. of inputs )\n",
    "#(no. of samples , no. of outputs )"
   ]
  },
  {
   "cell_type": "code",
   "execution_count": 612,
   "metadata": {},
   "outputs": [],
   "source": [
    "# Standardization --> StandardScaler\n",
    "# from sklearn.preprocessing import  StandardScaler\n",
    "\n",
    "\n",
    "# Normalization  --> MinMaxScaler\n",
    "# from sklearn.preprocessing import  MinMaxScaler\n",
    "\n",
    "# we will use Standardization \n",
    "\n",
    "scaler=StandardScaler()\n",
    "#scaler=MinMaxScaler()   \n",
    "scaler.fit(X_train)\n",
    "\n",
    "X_train_scaled = scaler.transform(X_train)\n",
    "X_val_scaled = scaler.transform(X_val)\n",
    "X_test_scaled = scaler.transform(X_test)"
   ]
  },
  {
   "cell_type": "code",
   "execution_count": 613,
   "metadata": {},
   "outputs": [
    {
     "data": {
      "text/plain": [
       "array([[-1.07567165, -0.18246682, -0.93446662, -0.92880843,  0.9884901 ,\n",
       "        -1.04649379, -0.03694161,  0.94145242,  1.15780016, -1.21325782,\n",
       "        -0.95898807, -0.87505615],\n",
       "       [ 2.44226036, -1.3381732 ,  1.6338945 ,  0.83594256, -1.01164392,\n",
       "         0.95557184,  0.71186501, -1.61949362,  0.49353017, -0.00323248,\n",
       "         1.04276584, -0.87505615],\n",
       "       [ 0.03771641,  0.23779004,  0.84362954,  0.24769223,  0.9884901 ,\n",
       "         0.95557184,  1.59037601,  0.36504688,  0.66313101,  1.20679286,\n",
       "         1.04276584, -0.87505615],\n",
       "       [ 2.08204658,  0.48293988, -0.14420166, -0.08845082,  0.9884901 ,\n",
       "         0.95557184, -0.07681211,  0.12230888,  1.08713314,  1.20679286,\n",
       "        -0.95898807,  1.14278381],\n",
       "       [-0.32717547, -1.26813039,  0.18507541,  0.7519068 ,  0.9884901 ,\n",
       "         0.95557184, -1.12468326,  1.54868632, -1.03287748, -1.21325782,\n",
       "        -0.95898807,  1.14278381]])"
      ]
     },
     "execution_count": 613,
     "metadata": {},
     "output_type": "execute_result"
    }
   ],
   "source": [
    "\n",
    "X_train_scaled[:5]"
   ]
  },
  {
   "cell_type": "code",
   "execution_count": 614,
   "metadata": {},
   "outputs": [],
   "source": [
    "# its not necessary to covert X_train_scaled(which is a numpy array) to a data frame but to make it more organized \n",
    "X_train_scaled=pd.DataFrame(X_train_scaled,columns=X_train.columns)\n",
    "X_val_scaled=pd.DataFrame(X_val_scaled,columns=X_val.columns)\n",
    "X_test_scaled=pd.DataFrame(X_test_scaled,columns=X_test.columns)"
   ]
  },
  {
   "cell_type": "code",
   "execution_count": 615,
   "metadata": {},
   "outputs": [
    {
     "data": {
      "text/html": [
       "<div>\n",
       "<style scoped>\n",
       "    .dataframe tbody tr th:only-of-type {\n",
       "        vertical-align: middle;\n",
       "    }\n",
       "\n",
       "    .dataframe tbody tr th {\n",
       "        vertical-align: top;\n",
       "    }\n",
       "\n",
       "    .dataframe thead th {\n",
       "        text-align: right;\n",
       "    }\n",
       "</style>\n",
       "<table border=\"1\" class=\"dataframe\">\n",
       "  <thead>\n",
       "    <tr style=\"text-align: right;\">\n",
       "      <th></th>\n",
       "      <th>Level_of_Hemoglobin</th>\n",
       "      <th>Genetic_Pedigree_Coefficient</th>\n",
       "      <th>Age</th>\n",
       "      <th>BMI</th>\n",
       "      <th>Sex</th>\n",
       "      <th>Smoking</th>\n",
       "      <th>Physical_activity</th>\n",
       "      <th>salt_content_in_the_diet</th>\n",
       "      <th>alcohol_consumption_per_day</th>\n",
       "      <th>Level_of_Stress</th>\n",
       "      <th>Chronic_kidney_disease</th>\n",
       "      <th>Adrenal_and_thyroid_disorders</th>\n",
       "    </tr>\n",
       "  </thead>\n",
       "  <tbody>\n",
       "    <tr>\n",
       "      <th>0</th>\n",
       "      <td>-1.075672</td>\n",
       "      <td>-0.182467</td>\n",
       "      <td>-0.934467</td>\n",
       "      <td>-0.928808</td>\n",
       "      <td>0.988490</td>\n",
       "      <td>-1.046494</td>\n",
       "      <td>-0.036942</td>\n",
       "      <td>0.941452</td>\n",
       "      <td>1.157800</td>\n",
       "      <td>-1.213258</td>\n",
       "      <td>-0.958988</td>\n",
       "      <td>-0.875056</td>\n",
       "    </tr>\n",
       "    <tr>\n",
       "      <th>1</th>\n",
       "      <td>2.442260</td>\n",
       "      <td>-1.338173</td>\n",
       "      <td>1.633895</td>\n",
       "      <td>0.835943</td>\n",
       "      <td>-1.011644</td>\n",
       "      <td>0.955572</td>\n",
       "      <td>0.711865</td>\n",
       "      <td>-1.619494</td>\n",
       "      <td>0.493530</td>\n",
       "      <td>-0.003232</td>\n",
       "      <td>1.042766</td>\n",
       "      <td>-0.875056</td>\n",
       "    </tr>\n",
       "    <tr>\n",
       "      <th>2</th>\n",
       "      <td>0.037716</td>\n",
       "      <td>0.237790</td>\n",
       "      <td>0.843630</td>\n",
       "      <td>0.247692</td>\n",
       "      <td>0.988490</td>\n",
       "      <td>0.955572</td>\n",
       "      <td>1.590376</td>\n",
       "      <td>0.365047</td>\n",
       "      <td>0.663131</td>\n",
       "      <td>1.206793</td>\n",
       "      <td>1.042766</td>\n",
       "      <td>-0.875056</td>\n",
       "    </tr>\n",
       "    <tr>\n",
       "      <th>3</th>\n",
       "      <td>2.082047</td>\n",
       "      <td>0.482940</td>\n",
       "      <td>-0.144202</td>\n",
       "      <td>-0.088451</td>\n",
       "      <td>0.988490</td>\n",
       "      <td>0.955572</td>\n",
       "      <td>-0.076812</td>\n",
       "      <td>0.122309</td>\n",
       "      <td>1.087133</td>\n",
       "      <td>1.206793</td>\n",
       "      <td>-0.958988</td>\n",
       "      <td>1.142784</td>\n",
       "    </tr>\n",
       "    <tr>\n",
       "      <th>4</th>\n",
       "      <td>-0.327175</td>\n",
       "      <td>-1.268130</td>\n",
       "      <td>0.185075</td>\n",
       "      <td>0.751907</td>\n",
       "      <td>0.988490</td>\n",
       "      <td>0.955572</td>\n",
       "      <td>-1.124683</td>\n",
       "      <td>1.548686</td>\n",
       "      <td>-1.032877</td>\n",
       "      <td>-1.213258</td>\n",
       "      <td>-0.958988</td>\n",
       "      <td>1.142784</td>\n",
       "    </tr>\n",
       "  </tbody>\n",
       "</table>\n",
       "</div>"
      ],
      "text/plain": [
       "   Level_of_Hemoglobin  Genetic_Pedigree_Coefficient       Age       BMI  \\\n",
       "0            -1.075672                     -0.182467 -0.934467 -0.928808   \n",
       "1             2.442260                     -1.338173  1.633895  0.835943   \n",
       "2             0.037716                      0.237790  0.843630  0.247692   \n",
       "3             2.082047                      0.482940 -0.144202 -0.088451   \n",
       "4            -0.327175                     -1.268130  0.185075  0.751907   \n",
       "\n",
       "        Sex   Smoking  Physical_activity  salt_content_in_the_diet  \\\n",
       "0  0.988490 -1.046494          -0.036942                  0.941452   \n",
       "1 -1.011644  0.955572           0.711865                 -1.619494   \n",
       "2  0.988490  0.955572           1.590376                  0.365047   \n",
       "3  0.988490  0.955572          -0.076812                  0.122309   \n",
       "4  0.988490  0.955572          -1.124683                  1.548686   \n",
       "\n",
       "   alcohol_consumption_per_day  Level_of_Stress  Chronic_kidney_disease  \\\n",
       "0                     1.157800        -1.213258               -0.958988   \n",
       "1                     0.493530        -0.003232                1.042766   \n",
       "2                     0.663131         1.206793                1.042766   \n",
       "3                     1.087133         1.206793               -0.958988   \n",
       "4                    -1.032877        -1.213258               -0.958988   \n",
       "\n",
       "   Adrenal_and_thyroid_disorders  \n",
       "0                      -0.875056  \n",
       "1                      -0.875056  \n",
       "2                      -0.875056  \n",
       "3                       1.142784  \n",
       "4                       1.142784  "
      ]
     },
     "execution_count": 615,
     "metadata": {},
     "output_type": "execute_result"
    }
   ],
   "source": [
    "X_train_scaled.head()"
   ]
  }
 ],
 "metadata": {
  "kernelspec": {
   "display_name": "Python 3",
   "language": "python",
   "name": "python3"
  },
  "language_info": {
   "codemirror_mode": {
    "name": "ipython",
    "version": 3
   },
   "file_extension": ".py",
   "mimetype": "text/x-python",
   "name": "python",
   "nbconvert_exporter": "python",
   "pygments_lexer": "ipython3",
   "version": "3.9.13"
  },
  "orig_nbformat": 4
 },
 "nbformat": 4,
 "nbformat_minor": 2
}
